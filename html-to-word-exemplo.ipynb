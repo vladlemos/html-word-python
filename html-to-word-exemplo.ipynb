{
 "cells": [
  {
   "cell_type": "code",
   "execution_count": null,
   "metadata": {},
   "outputs": [],
   "source": [
    "import win32com.client \n",
    "from bs4 import BeautifulSoup\n",
    "from selenium import webdriver"
   ]
  },
  {
   "cell_type": "code",
   "execution_count": null,
   "metadata": {},
   "outputs": [],
   "source": [
    "#instancia o browser de preferência\n",
    "browser = webdriver.Firefox()\n",
    "browser.get('https://www.terra.com.br/esportes/futebol/brasileiro-serie-a/tabela/')\n",
    "\n",
    "#pega o código fonte da página\n",
    "html_doc = browser.page_source\n",
    "\n",
    "# passa para o Beautiful Soup \n",
    "soup = BeautifulSoup(html_doc, 'html.parser')"
   ]
  },
  {
   "cell_type": "code",
   "execution_count": null,
   "metadata": {},
   "outputs": [],
   "source": [
    "# pega a tabela\n",
    "tabela_pontos_corridos = soup.find('table')"
   ]
  },
  {
   "cell_type": "code",
   "execution_count": null,
   "metadata": {},
   "outputs": [],
   "source": [
    "#converte em string\n",
    "tabela = str(tabela_pontos_corridos)"
   ]
  },
  {
   "cell_type": "code",
   "execution_count": null,
   "metadata": {},
   "outputs": [],
   "source": [
    "# salva como html \n",
    "Html_file= open(\"tabela.html\",\"w\")\n",
    "Html_file.write(tabela)\n",
    "Html_file.close()"
   ]
  },
  {
   "cell_type": "code",
   "execution_count": 9,
   "metadata": {},
   "outputs": [],
   "source": [
    "# faz a conversão de html para doc\n",
    "\n",
    "word = win32com.client.Dispatch('Word.Application') \n",
    "\n",
    "pasta = 'C:\\\\Users\\\\vladi\\\\Desktop\\\\Python\\docx-html\\\\'\n",
    "\n",
    "doc = word.Documents.Add(f\"{pasta}tabela.html\") \n",
    "doc.SaveAs(f'{pasta}tabela_brasileiro_2020.doc', FileFormat=0) \n",
    "doc.Close() \n",
    " \n",
    "word.Quit() "
   ]
  }
 ],
 "metadata": {
  "kernelspec": {
   "display_name": "Python 3",
   "language": "python",
   "name": "python3"
  },
  "language_info": {
   "codemirror_mode": {
    "name": "ipython",
    "version": 3
   },
   "file_extension": ".py",
   "mimetype": "text/x-python",
   "name": "python",
   "nbconvert_exporter": "python",
   "pygments_lexer": "ipython3",
   "version": "3.8.3"
  }
 },
 "nbformat": 4,
 "nbformat_minor": 4
}
